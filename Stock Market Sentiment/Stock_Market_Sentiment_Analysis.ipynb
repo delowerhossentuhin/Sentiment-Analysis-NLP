{
  "nbformat": 4,
  "nbformat_minor": 0,
  "metadata": {
    "colab": {
      "provenance": [],
      "mount_file_id": "1L_aKNQ72WC-mFf86Fq1wwKpfvCPnpAdt",
      "authorship_tag": "ABX9TyPve0ZZlLFp251XAvbMFXm5",
      "include_colab_link": true
    },
    "kernelspec": {
      "name": "python3",
      "display_name": "Python 3"
    },
    "language_info": {
      "name": "python"
    }
  },
  "cells": [
    {
      "cell_type": "markdown",
      "metadata": {
        "id": "view-in-github",
        "colab_type": "text"
      },
      "source": [
        "<a href=\"https://colab.research.google.com/github/delowerhossentuhin/Sentiment-Analysis-NLP/blob/main/Stock%20Market%20Sentiment/Stock_Market_Sentiment_Analysis.ipynb\" target=\"_parent\"><img src=\"https://colab.research.google.com/assets/colab-badge.svg\" alt=\"Open In Colab\"/></a>"
      ]
    },
    {
      "cell_type": "code",
      "execution_count": 1,
      "metadata": {
        "colab": {
          "base_uri": "https://localhost:8080/"
        },
        "id": "5Vt9kB4f7k8b",
        "outputId": "dd4522d8-31af-48bf-e97e-749fc856e5da"
      },
      "outputs": [
        {
          "output_type": "stream",
          "name": "stderr",
          "text": [
            "[nltk_data] Downloading package punkt to /root/nltk_data...\n",
            "[nltk_data]   Package punkt is already up-to-date!\n",
            "[nltk_data] Downloading package punkt_tab to /root/nltk_data...\n",
            "[nltk_data]   Package punkt_tab is already up-to-date!\n",
            "[nltk_data] Downloading package wordnet to /root/nltk_data...\n",
            "[nltk_data]   Package wordnet is already up-to-date!\n",
            "[nltk_data] Downloading package stopwords to /root/nltk_data...\n",
            "[nltk_data]   Package stopwords is already up-to-date!\n"
          ]
        },
        {
          "output_type": "execute_result",
          "data": {
            "text/plain": [
              "True"
            ]
          },
          "metadata": {},
          "execution_count": 1
        }
      ],
      "source": [
        "import pandas as pd\n",
        "import string\n",
        "import re\n",
        "import nltk\n",
        "import contractions\n",
        "from nltk.tokenize import word_tokenize\n",
        "from nltk.corpus import stopwords\n",
        "from nltk.corpus import wordnet\n",
        "from nltk.stem import WordNetLemmatizer,PorterStemmer\n",
        "from sklearn.feature_extraction.text import TfidfVectorizer\n",
        "from sklearn.model_selection import train_test_split\n",
        "from sklearn.naive_bayes import MultinomialNB\n",
        "from sklearn.metrics import classification_report, confusion_matrix\n",
        "import seaborn as sns\n",
        "import matplotlib.pyplot as plt\n",
        "\n",
        "\n",
        "nltk.download('punkt')\n",
        "nltk.download('punkt_tab')\n",
        "nltk.download('wordnet')\n",
        "nltk.download('stopwords')\n"
      ]
    },
    {
      "cell_type": "code",
      "source": [
        "stock_df=pd.read_csv('/content/drive/MyDrive/Project and Coding/Stock Market Sentiment Analysis-NLP/stock_data.csv')"
      ],
      "metadata": {
        "id": "ADR2cIHJ8UYj"
      },
      "execution_count": 2,
      "outputs": []
    },
    {
      "cell_type": "code",
      "source": [
        "#stock_df.head(20)"
      ],
      "metadata": {
        "id": "Nd6sjz6w8ZRg"
      },
      "execution_count": 3,
      "outputs": []
    },
    {
      "cell_type": "code",
      "source": [
        "#Case Folding\n",
        "stock_df['Text_nlp']=stock_df['Text'].str.lower()\n",
        "#stock_df.head(20)"
      ],
      "metadata": {
        "id": "7ykWXIO48bPV"
      },
      "execution_count": 4,
      "outputs": []
    },
    {
      "cell_type": "code",
      "source": [
        "#contraction\n",
        "stock_df['Text_nlp']=stock_df['Text_nlp'].apply(contractions.fix)\n",
        "#stock_df.loc[10]\n",
        "#stock_df.head(20)"
      ],
      "metadata": {
        "id": "EUXXkukJAZ_q"
      },
      "execution_count": 5,
      "outputs": []
    },
    {
      "cell_type": "code",
      "source": [
        "#Proper Tokenization\n",
        "# import re\n",
        "# stock_df['Text_nlp'] = stock_df['Text_nlp'].apply(lambda x: re.sub(r\"[_-]\", \" \", x))\n",
        "stock_df['Tokens']=stock_df['Text_nlp'].apply(word_tokenize)\n",
        "#stock_df.loc[10]\n",
        "#stock_df.head(20)"
      ],
      "metadata": {
        "id": "It2AiEtqA1Xe"
      },
      "execution_count": 6,
      "outputs": []
    },
    {
      "cell_type": "code",
      "source": [
        "# # Synonym Substituition\n",
        "# def synonym_substitution(x):\n",
        "#     substituted=[]\n",
        "#     for word in x:\n",
        "#         synsets=wordnet.synsets(word)\n",
        "#         if synsets:\n",
        "#             synonym = synsets[0].lemmas()[0].name()\n",
        "#             substituted.append(synonym)\n",
        "#         else:\n",
        "#             substituted.append(word)\n",
        "#     return substituted\n",
        "\n",
        "# stock_df['Tokens']=stock_df['Tokens'].apply(synonym_substitution)\n",
        "# #stock_df.head(20)\n"
      ],
      "metadata": {
        "id": "MnGa2gxABytl"
      },
      "execution_count": 7,
      "outputs": []
    },
    {
      "cell_type": "code",
      "source": [
        "#Stop Words Removal\n",
        "stop_words=set(stopwords.words('english'))\n",
        "def stopWordRemove(x):\n",
        "  swRemoved=[]\n",
        "  for word in x:\n",
        "    if word not in stop_words:\n",
        "      swRemoved.append(word)\n",
        "  return swRemoved\n",
        "stock_df['Tokens']=stock_df['Tokens'].apply(stopWordRemove)\n",
        "#stock_df.loc[10]\n",
        "#stock_df.head(20)"
      ],
      "metadata": {
        "id": "PZ5THvGSONF8"
      },
      "execution_count": 8,
      "outputs": []
    },
    {
      "cell_type": "code",
      "source": [
        "#Punctuation Removal\n",
        "def punctuationRemoved(x):\n",
        "  pRemoved=[]\n",
        "  for word in x:\n",
        "    if word not in string.punctuation:\n",
        "      pRemoved.append(word)\n",
        "  return pRemoved\n",
        "stock_df['Tokens']=stock_df['Tokens'].apply(punctuationRemoved)\n",
        "#stock_df.loc[10]\n",
        "#stock_df.head(20)\n"
      ],
      "metadata": {
        "id": "zujzOfcfQl1h"
      },
      "execution_count": 9,
      "outputs": []
    },
    {
      "cell_type": "code",
      "source": [
        "#Stemming\n",
        "stemmer=PorterStemmer()\n",
        "def stemming(x):\n",
        "  wStemming=[]\n",
        "  for word in x:\n",
        "    wStemming.append(stemmer.stem(word))\n",
        "  return wStemming\n",
        "stock_df['Tokens']=stock_df['Tokens'].apply(stemming)"
      ],
      "metadata": {
        "id": "JvQ_aelSO0jS"
      },
      "execution_count": 10,
      "outputs": []
    },
    {
      "cell_type": "code",
      "source": [
        "#lemmatization\n",
        "lemmatizer=WordNetLemmatizer()\n",
        "def lemmatization(x):\n",
        "  lemmaWord=[]\n",
        "  for word in x:\n",
        "    lemmaWord.append(lemmatizer.lemmatize(word))\n",
        "  return lemmaWord\n",
        "stock_df['Tokens']=stock_df['Tokens'].apply(lemmatization)\n",
        "#stock_df.head(20)"
      ],
      "metadata": {
        "id": "5C7nirXfemUI"
      },
      "execution_count": 11,
      "outputs": []
    },
    {
      "cell_type": "code",
      "source": [
        "#Restore Text from Tokens\n",
        "stock_df['Processed_Text'] = stock_df['Tokens'].apply(lambda x: ' '.join(x))\n",
        "#stock_df[['Text','Processed_Text']].head(20)"
      ],
      "metadata": {
        "id": "t-BnIi7ktLPT"
      },
      "execution_count": 12,
      "outputs": []
    },
    {
      "cell_type": "code",
      "source": [
        "#Vectorization\n",
        "vectorizer = TfidfVectorizer()\n",
        "X = vectorizer.fit_transform(stock_df['Processed_Text'])\n",
        "y = stock_df['Sentiment']"
      ],
      "metadata": {
        "id": "R8cpTMu5ud4e"
      },
      "execution_count": 13,
      "outputs": []
    },
    {
      "cell_type": "code",
      "source": [
        "# Training Set and Testing Set\n",
        "X_train,X_test,y_train,y_test=train_test_split(X, y, test_size=0.2, random_state=42)"
      ],
      "metadata": {
        "id": "pRvQv2HE2itX"
      },
      "execution_count": 14,
      "outputs": []
    },
    {
      "cell_type": "code",
      "source": [
        "#Implementing 'Multinomial' Naive Bayes Classifiers\n",
        "model = MultinomialNB()\n",
        "model.fit(X_train, y_train)\n",
        "y_pred = model.predict(X_test)"
      ],
      "metadata": {
        "id": "UBLImJHk46j_"
      },
      "execution_count": 15,
      "outputs": []
    },
    {
      "cell_type": "code",
      "source": [
        "print(classification_report(y_test, y_pred))"
      ],
      "metadata": {
        "colab": {
          "base_uri": "https://localhost:8080/"
        },
        "id": "1KEDHSY07ws_",
        "outputId": "9fa29b7c-5b29-424d-a640-78ed323b1104"
      },
      "execution_count": 16,
      "outputs": [
        {
          "output_type": "stream",
          "name": "stdout",
          "text": [
            "              precision    recall  f1-score   support\n",
            "\n",
            "          -1       0.84      0.34      0.48       427\n",
            "           1       0.71      0.96      0.82       732\n",
            "\n",
            "    accuracy                           0.73      1159\n",
            "   macro avg       0.78      0.65      0.65      1159\n",
            "weighted avg       0.76      0.73      0.70      1159\n",
            "\n"
          ]
        }
      ]
    },
    {
      "cell_type": "code",
      "source": [
        "cm=confusion_matrix(y_test,y_pred)\n",
        "plt.figure(figsize=(6,4))\n",
        "sns.heatmap(cm,annot=True,fmt='.1f',cmap='Greens')\n",
        "plt.xlabel('Predicted')\n",
        "plt.ylabel('Actual')\n",
        "plt.title('Confusion Matrix')\n",
        "plt.show()"
      ],
      "metadata": {
        "colab": {
          "base_uri": "https://localhost:8080/",
          "height": 410
        },
        "id": "RJwecMdDOxA7",
        "outputId": "157793b1-f8db-41af-ad41-2e1a3353bbbb"
      },
      "execution_count": 17,
      "outputs": [
        {
          "output_type": "display_data",
          "data": {
            "text/plain": [
              "<Figure size 600x400 with 2 Axes>"
            ],
            "image/png": "[encoded data removed]"
          },
          "metadata": {}
        }
      ]
    },
    {
      "cell_type": "code",
      "source": [],
      "metadata": {
        "id": "9ftP0Ry7aMiR"
      },
      "execution_count": 17,
      "outputs": []
    }
  ]
}